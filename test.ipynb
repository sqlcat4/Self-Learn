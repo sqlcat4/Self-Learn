{
 "cells": [
  {
   "cell_type": "markdown",
   "metadata": {},
   "source": [
    "## Trying Python SDK"
   ]
  },
  {
   "cell_type": "markdown",
   "metadata": {},
   "source": [
    "### 1) Import the Package"
   ]
  },
  {
   "cell_type": "code",
   "execution_count": 1,
   "metadata": {},
   "outputs": [],
   "source": [
    "from shroomdk import ShroomDK"
   ]
  },
  {
   "cell_type": "markdown",
   "metadata": {},
   "source": [
    "### 2) Import Your API Key from ShroomDK NFT\n"
   ]
  },
  {
   "cell_type": "code",
   "execution_count": 2,
   "metadata": {},
   "outputs": [],
   "source": [
    "import os\n",
    "YOUR_API_KEY = os.environ.get(\"7c42ac16-4eb7-4793-a28e-a6af5f6ce9d5\")\n",
    "# Invoke the ShroomDK class to create an instance of the SDK\n",
    "sdk  =  ShroomDK('7c42ac16-4eb7-4793-a28e-a6af5f6ce9d5')"
   ]
  },
  {
   "cell_type": "markdown",
   "metadata": {},
   "source": [
    "### 3) Run Your Query Here"
   ]
  },
  {
   "cell_type": "code",
   "execution_count": 5,
   "metadata": {},
   "outputs": [],
   "source": [
    "query_result_set = sdk.query(\"\"\"\n",
    "\n",
    "SELECT * FROM ethereum.core.ez_eth_transfers\n",
    "\n",
    "limit 10\n",
    "\n",
    "\"\"\")"
   ]
  },
  {
   "cell_type": "markdown",
   "metadata": {},
   "source": [
    "### 4) Explore Result"
   ]
  },
  {
   "cell_type": "code",
   "execution_count": 6,
   "metadata": {},
   "outputs": [
    {
     "name": "stdout",
     "output_type": "stream",
     "text": [
      "[{'tx_hash': '0x335f42ffa4717f2ffe2b7a1390e38230a642df9b69da54452bf2f8fe4d1cc93f', 'block_number': 8531830, 'block_timestamp': '2019-09-12 00:51:47.000', 'identifier': 'CALL_ORIGIN', 'origin_from_address': '0x1b7c06cd3e6120b26069a8040b653dd963682cd6', 'origin_to_address': '0x74a75d57352531c85ae2e7b238207b09a35edd48', 'origin_function_signature': '0x', 'eth_from_address': '0x1b7c06cd3e6120b26069a8040b653dd963682cd6', 'eth_to_address': '0x74a75d57352531c85ae2e7b238207b09a35edd48', 'amount': 0.06905256072, 'amount_usd': None, '_call_id': '0x335f42ffa4717f2ffe2b7a1390e38230a642df9b69da54452bf2f8fe4d1cc93f-CALL_ORIGIN', '_inserted_timestamp': '2022-05-05 13:20:30.270'}, {'tx_hash': '0xe1d866b539c7d2af8d9ed93e69781a9241861742ed5cc51370c6e7971403c1e3', 'block_number': 8533261, 'block_timestamp': '2019-09-12 06:24:06.000', 'identifier': 'CALL_ORIGIN', 'origin_from_address': '0x5861b8446a2f6e19a067874c133f04c578928727', 'origin_to_address': '0xe446b74c91a95aed3b7ac8687da2979ab37bfad1', 'origin_function_signature': '0x', 'eth_from_address': '0x5861b8446a2f6e19a067874c133f04c578928727', 'eth_to_address': '0xe446b74c91a95aed3b7ac8687da2979ab37bfad1', 'amount': 1.12064422, 'amount_usd': None, '_call_id': '0xe1d866b539c7d2af8d9ed93e69781a9241861742ed5cc51370c6e7971403c1e3-CALL_ORIGIN', '_inserted_timestamp': '2022-05-05 12:07:07.761'}, {'tx_hash': '0x028e82b574e4844c77ed29d8bc47cd7466b80771fb8d8b584a4a4a88e409bc8c', 'block_number': 8533868, 'block_timestamp': '2019-09-12 08:34:12.000', 'identifier': 'CALL_ORIGIN', 'origin_from_address': '0xd7d26ba700037aadef831eeaf76bb5a4b5b4710f', 'origin_to_address': '0xd1ceeeeee83f8bcf3bedad437202b6154e9f5405', 'origin_function_signature': '0x5e83b463', 'eth_from_address': '0xd7d26ba700037aadef831eeaf76bb5a4b5b4710f', 'eth_to_address': '0xd1ceeeeee83f8bcf3bedad437202b6154e9f5405', 'amount': 1, 'amount_usd': None, '_call_id': '0x028e82b574e4844c77ed29d8bc47cd7466b80771fb8d8b584a4a4a88e409bc8c-CALL_ORIGIN', '_inserted_timestamp': '2022-05-05 11:35:03.034'}, {'tx_hash': '0x56fa5f663ec9914acea88ca74963f7fa8aef719a15064afa8d7dc9b3e7c1bbd5', 'block_number': 8535888, 'block_timestamp': '2019-09-12 16:06:34.000', 'identifier': 'CALL_ORIGIN', 'origin_from_address': '0xd551234ae421e3bcba99a0da6d736074f22192ff', 'origin_to_address': '0x54bb9853072b0a131b771dc0f4e22b85667cbc4c', 'origin_function_signature': '0x', 'eth_from_address': '0xd551234ae421e3bcba99a0da6d736074f22192ff', 'eth_to_address': '0x54bb9853072b0a131b771dc0f4e22b85667cbc4c', 'amount': 8.2027, 'amount_usd': None, '_call_id': '0x56fa5f663ec9914acea88ca74963f7fa8aef719a15064afa8d7dc9b3e7c1bbd5-CALL_ORIGIN', '_inserted_timestamp': '2022-05-05 13:32:34.587'}, {'tx_hash': '0x8c3b8ef7437dd51847dbe02e0d2ed30fc0546e4b96148ccecc2b26bffb1730b5', 'block_number': 8535255, 'block_timestamp': '2019-09-12 13:46:13.000', 'identifier': 'CALL_ORIGIN', 'origin_from_address': '0x734ac651dd95a339c633cded410228515f97faff', 'origin_to_address': '0xdca923f59a6cc60c723d16f1759713ee533a1ea3', 'origin_function_signature': '0x', 'eth_from_address': '0x734ac651dd95a339c633cded410228515f97faff', 'eth_to_address': '0xdca923f59a6cc60c723d16f1759713ee533a1ea3', 'amount': 0.00097035224, 'amount_usd': None, '_call_id': '0x8c3b8ef7437dd51847dbe02e0d2ed30fc0546e4b96148ccecc2b26bffb1730b5-CALL_ORIGIN', '_inserted_timestamp': '2022-05-05 14:07:28.751'}, {'tx_hash': '0x802514dd9f691f1cfc6eeca96c5f87789675b4ef32b495e6b08a45985213dcc8', 'block_number': 8537138, 'block_timestamp': '2019-09-12 20:37:48.000', 'identifier': 'CALL_ORIGIN', 'origin_from_address': '0x5d39f7de7e4ff5c66e3947e16cccc47555bc4c38', 'origin_to_address': '0x3f5ce5fbfe3e9af3971dd833d26ba9b5c936f0be', 'origin_function_signature': '0x', 'eth_from_address': '0x5d39f7de7e4ff5c66e3947e16cccc47555bc4c38', 'eth_to_address': '0x3f5ce5fbfe3e9af3971dd833d26ba9b5c936f0be', 'amount': 0.4014542371, 'amount_usd': None, '_call_id': '0x802514dd9f691f1cfc6eeca96c5f87789675b4ef32b495e6b08a45985213dcc8-CALL_ORIGIN', '_inserted_timestamp': '2022-05-05 12:38:21.001'}, {'tx_hash': '0x7664cc72ef45aca42873b53500905603f530238be24fd23cc31c81fd7801443b', 'block_number': 8532808, 'block_timestamp': '2019-09-12 04:35:06.000', 'identifier': 'CALL_ORIGIN', 'origin_from_address': '0x2ff5318cc9761ec6e3be00dc2b92cf619eff1344', 'origin_to_address': '0xf4cb644b1e3a9f8f2d157e701ec80d2a70296d64', 'origin_function_signature': '0x', 'eth_from_address': '0x2ff5318cc9761ec6e3be00dc2b92cf619eff1344', 'eth_to_address': '0xf4cb644b1e3a9f8f2d157e701ec80d2a70296d64', 'amount': 0.00962478283, 'amount_usd': None, '_call_id': '0x7664cc72ef45aca42873b53500905603f530238be24fd23cc31c81fd7801443b-CALL_ORIGIN', '_inserted_timestamp': '2022-05-05 12:30:42.980'}, {'tx_hash': '0xf8caaf5d881db6c6add2a70afb36b45c5a2919800d9b43780f6cb903cedea246', 'block_number': 8534963, 'block_timestamp': '2019-09-12 12:40:47.000', 'identifier': 'CALL_ORIGIN', 'origin_from_address': '0x071c685dc8d3fe0329a951a7c5094905737bd80f', 'origin_to_address': '0xde86ff800b9a6db42db422ebbfb98922d0dc2be5', 'origin_function_signature': '0x', 'eth_from_address': '0x071c685dc8d3fe0329a951a7c5094905737bd80f', 'eth_to_address': '0xde86ff800b9a6db42db422ebbfb98922d0dc2be5', 'amount': 0.12473466, 'amount_usd': None, '_call_id': '0xf8caaf5d881db6c6add2a70afb36b45c5a2919800d9b43780f6cb903cedea246-CALL_ORIGIN', '_inserted_timestamp': '2022-05-05 14:29:51.557'}, {'tx_hash': '0x508592a48b6da341cf890f74406d2618972c61d3c1099129054b3d18f87b70fc', 'block_number': 8533664, 'block_timestamp': '2019-09-12 07:51:56.000', 'identifier': 'CALL_ORIGIN', 'origin_from_address': '0x034f854b44d28e26386c1bc37ff9b20c6380b00d', 'origin_to_address': '0x3fb8c1d3630dba2542fe34955ff92d136972a3b0', 'origin_function_signature': '0x', 'eth_from_address': '0x034f854b44d28e26386c1bc37ff9b20c6380b00d', 'eth_to_address': '0x3fb8c1d3630dba2542fe34955ff92d136972a3b0', 'amount': 5.1842, 'amount_usd': None, '_call_id': '0x508592a48b6da341cf890f74406d2618972c61d3c1099129054b3d18f87b70fc-CALL_ORIGIN', '_inserted_timestamp': '2022-05-05 11:46:25.152'}, {'tx_hash': '0xa3acd5a1347317b9805857446d75f37de7377337f57f639d5ea800802c8318da', 'block_number': 8532883, 'block_timestamp': '2019-09-12 04:55:23.000', 'identifier': 'CALL_ORIGIN', 'origin_from_address': '0x00192fb10df37c9fb26829eb2cc623cd1bf599e8', 'origin_to_address': '0x237b54d0163aa131254fa260fc12db0e6dc76fc7', 'origin_function_signature': '0x', 'eth_from_address': '0x00192fb10df37c9fb26829eb2cc623cd1bf599e8', 'eth_to_address': '0x237b54d0163aa131254fa260fc12db0e6dc76fc7', 'amount': 0.051382158, 'amount_usd': None, '_call_id': '0xa3acd5a1347317b9805857446d75f37de7377337f57f639d5ea800802c8318da-CALL_ORIGIN', '_inserted_timestamp': '2022-05-05 12:27:35.591'}]\n"
     ]
    }
   ],
   "source": [
    "records = query_result_set.records\n",
    "\n",
    "print(records)"
   ]
  },
  {
   "cell_type": "markdown",
   "metadata": {},
   "source": [
    "### Additional Feature to Add : Caching"
   ]
  },
  {
   "cell_type": "code",
   "execution_count": 9,
   "metadata": {},
   "outputs": [
    {
     "ename": "TypeError",
     "evalue": "can only concatenate list (not \"str\") to list",
     "output_type": "error",
     "traceback": [
      "\u001b[1;31m---------------------------------------------------------------------------\u001b[0m",
      "\u001b[1;31mTypeError\u001b[0m                                 Traceback (most recent call last)",
      "\u001b[1;32mc:\\Users\\USER\\OneDrive\\Desktop\\New folder\\test.ipynb Cell 11\u001b[0m in \u001b[0;36m<cell line: 5>\u001b[1;34m()\u001b[0m\n\u001b[0;32m      <a href='vscode-notebook-cell:/c%3A/Users/USER/OneDrive/Desktop/New%20folder/test.ipynb#X21sZmlsZQ%3D%3D?line=0'>1</a>\u001b[0m \u001b[39mimport\u001b[39;00m \u001b[39mtime\u001b[39;00m \n\u001b[0;32m      <a href='vscode-notebook-cell:/c%3A/Users/USER/OneDrive/Desktop/New%20folder/test.ipynb#X21sZmlsZQ%3D%3D?line=2'>3</a>\u001b[0m start \u001b[39m=\u001b[39m time\u001b[39m.\u001b[39mtime()\n\u001b[1;32m----> <a href='vscode-notebook-cell:/c%3A/Users/USER/OneDrive/Desktop/New%20folder/test.ipynb#X21sZmlsZQ%3D%3D?line=4'>5</a>\u001b[0m sdk\u001b[39m.\u001b[39mquery(records \u001b[39m+\u001b[39;49m \u001b[39m\"\u001b[39;49m\u001b[39m This is a different statement \u001b[39;49m\u001b[39m\"\u001b[39;49m, ttl_minutes\u001b[39m=\u001b[39m\u001b[39m1\u001b[39m)\n\u001b[0;32m      <a href='vscode-notebook-cell:/c%3A/Users/USER/OneDrive/Desktop/New%20folder/test.ipynb#X21sZmlsZQ%3D%3D?line=6'>7</a>\u001b[0m \u001b[39mprint\u001b[39m(\u001b[39mf\u001b[39m\u001b[39m\"\u001b[39m\u001b[39mquery ran in \u001b[39m\u001b[39m{\u001b[39;00mtime\u001b[39m.\u001b[39mtime() \u001b[39m-\u001b[39m start\u001b[39m}\u001b[39;00m\u001b[39m seconds\u001b[39m\u001b[39m\"\u001b[39m)\n",
      "\u001b[1;31mTypeError\u001b[0m: can only concatenate list (not \"str\") to list"
     ]
    }
   ],
   "source": [
    "import time \n",
    "\n",
    "start = time.time()\n",
    "\n",
    "sdk.query(records + \" This is a different statement \", ttl_minutes=1)\n",
    "\n",
    "print(f\"query ran in {time.time() - start} seconds\")"
   ]
  }
 ],
 "metadata": {
  "kernelspec": {
   "display_name": "Python 3.10.2 64-bit",
   "language": "python",
   "name": "python3"
  },
  "language_info": {
   "codemirror_mode": {
    "name": "ipython",
    "version": 3
   },
   "file_extension": ".py",
   "mimetype": "text/x-python",
   "name": "python",
   "nbconvert_exporter": "python",
   "pygments_lexer": "ipython3",
   "version": "3.10.2"
  },
  "orig_nbformat": 4,
  "vscode": {
   "interpreter": {
    "hash": "df95319d8ce4e1d89f5365ae10992bc1f65da593082b1d264e8f529830ec2f02"
   }
  }
 },
 "nbformat": 4,
 "nbformat_minor": 2
}
